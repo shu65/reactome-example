{
  "nbformat": 4,
  "nbformat_minor": 0,
  "metadata": {
    "colab": {
      "name": "Reactome gene pathway hierarchy relationship",
      "provenance": [],
      "collapsed_sections": [],
      "authorship_tag": "ABX9TyP86NqZ/B5DR3lVdT8vd32T",
      "include_colab_link": true
    },
    "kernelspec": {
      "name": "python3",
      "display_name": "Python 3"
    },
    "language_info": {
      "name": "python"
    }
  },
  "cells": [
    {
      "cell_type": "markdown",
      "metadata": {
        "id": "view-in-github",
        "colab_type": "text"
      },
      "source": [
        "<a href=\"https://colab.research.google.com/github/shu65/reactome-example/blob/main/Reactome_gene_pathway_hierarchy_relationship.ipynb\" target=\"_parent\"><img src=\"https://colab.research.google.com/assets/colab-badge.svg\" alt=\"Open In Colab\"/></a>"
      ]
    },
    {
      "cell_type": "code",
      "execution_count": 2,
      "metadata": {
        "colab": {
          "base_uri": "https://localhost:8080/"
        },
        "id": "4MlIf5iRVsap",
        "outputId": "336fb31d-ceaa-4aea-ad89-035b3fb7a50d"
      },
      "outputs": [
        {
          "output_type": "stream",
          "name": "stdout",
          "text": [
            "--2022-05-06 06:52:12--  https://reactome.org/download/current/ReactomePathways.gmt.zip\n",
            "Resolving reactome.org (reactome.org)... 100.25.71.177\n",
            "Connecting to reactome.org (reactome.org)|100.25.71.177|:443... connected.\n",
            "HTTP request sent, awaiting response... 200 OK\n",
            "Length: 255578 (250K) [application/zip]\n",
            "Saving to: ‘ReactomePathways.gmt.zip’\n",
            "\n",
            "ReactomePathways.gm 100%[===================>] 249.59K   960KB/s    in 0.3s    \n",
            "\n",
            "2022-05-06 06:52:13 (960 KB/s) - ‘ReactomePathways.gmt.zip’ saved [255578/255578]\n",
            "\n",
            "--2022-05-06 06:52:13--  https://reactome.org/download/current/ReactomePathwaysRelation.txt\n",
            "Resolving reactome.org (reactome.org)... 100.25.71.177\n",
            "Connecting to reactome.org (reactome.org)|100.25.71.177|:443... connected.\n",
            "HTTP request sent, awaiting response... 200 OK\n",
            "Length: 595090 (581K) [text/plain]\n",
            "Saving to: ‘ReactomePathwaysRelation.txt’\n",
            "\n",
            "ReactomePathwaysRel 100%[===================>] 581.14K  1.83MB/s    in 0.3s    \n",
            "\n",
            "2022-05-06 06:52:14 (1.83 MB/s) - ‘ReactomePathwaysRelation.txt’ saved [595090/595090]\n",
            "\n",
            "--2022-05-06 06:52:14--  https://reactome.org/download/current/ReactomePathways.txt\n",
            "Resolving reactome.org (reactome.org)... 100.25.71.177\n",
            "Connecting to reactome.org (reactome.org)|100.25.71.177|:443... connected.\n",
            "HTTP request sent, awaiting response... 200 OK\n",
            "Length: 1454791 (1.4M) [text/plain]\n",
            "Saving to: ‘ReactomePathways.txt’\n",
            "\n",
            "ReactomePathways.tx 100%[===================>]   1.39M  3.53MB/s    in 0.4s    \n",
            "\n",
            "2022-05-06 06:52:14 (3.53 MB/s) - ‘ReactomePathways.txt’ saved [1454791/1454791]\n",
            "\n"
          ]
        }
      ],
      "source": [
        "!wget https://reactome.org/download/current/ReactomePathways.gmt.zip\n",
        "!wget https://reactome.org/download/current/ReactomePathwaysRelation.txt\n",
        "!wget https://reactome.org/download/current/ReactomePathways.txt"
      ]
    },
    {
      "cell_type": "code",
      "source": [
        "!unzip ReactomePathways.gmt.zip "
      ],
      "metadata": {
        "colab": {
          "base_uri": "https://localhost:8080/"
        },
        "id": "xu2P78BdWv1v",
        "outputId": "9acbee06-ce04-44d3-a3eb-bbbda3190146"
      },
      "execution_count": 3,
      "outputs": [
        {
          "output_type": "stream",
          "name": "stdout",
          "text": [
            "Archive:  ReactomePathways.gmt.zip\n",
            "  inflating: ReactomePathways.gmt    \n"
          ]
        }
      ]
    },
    {
      "cell_type": "code",
      "source": [
        "!ls"
      ],
      "metadata": {
        "colab": {
          "base_uri": "https://localhost:8080/"
        },
        "id": "YRbP08GoWr5X",
        "outputId": "7be1ed34-ca83-4fe3-bc23-6bcf13edc6c2"
      },
      "execution_count": 4,
      "outputs": [
        {
          "output_type": "stream",
          "name": "stdout",
          "text": [
            "ReactomePathways.gmt\t  ReactomePathwaysRelation.txt\tsample_data\n",
            "ReactomePathways.gmt.zip  ReactomePathways.txt\n"
          ]
        }
      ]
    },
    {
      "cell_type": "code",
      "source": [
        "!head ReactomePathways.gmt"
      ],
      "metadata": {
        "colab": {
          "base_uri": "https://localhost:8080/"
        },
        "id": "dn2B8AAdWzNh",
        "outputId": "560acdc4-fb99-4a90-c363-6ea4c895ccf6"
      },
      "execution_count": 5,
      "outputs": [
        {
          "output_type": "stream",
          "name": "stdout",
          "text": [
            "2-LTR circle formation\tR-HSA-164843\tBANF1\tHMGA1\tLIG4\tPSIP1\tXRCC4\tXRCC5\tXRCC6\tgag\tgag-pol\trev\tvif\tvpr\tvpu\r\n",
            "5-Phosphoribose 1-diphosphate biosynthesis\tR-HSA-73843\tPRPS1\tPRPS1L1\tPRPS2\r\n",
            "A tetrasaccharide linker sequence is required for GAG synthesis\tR-HSA-1971475\tAGRN\tB3GALT6\tB3GAT1\tB3GAT2\tB3GAT3\tB4GALT7\tBCAN\tBGN\tCSPG4\tCSPG5\tDCN\tGPC1\tGPC2\tGPC3\tGPC4\tGPC5\tGPC6\tHSPG2\tNCAN\tSDC1\tSDC2\tSDC3\tSDC4\tVCAN\tXYLT1\tXYLT2\r\n",
            "ABC transporter disorders\tR-HSA-5619084\tABCA1\tABCA12\tABCA3\tABCB11\tABCB4\tABCB6\tABCC2\tABCC6\tABCC8\tABCC9\tABCD1\tABCD4\tABCG5\tABCG8\tAPOA1\tCFTR\tDERL1\tDERL2\tDERL3\tERLEC1\tERLIN1\tERLIN2\tKCNJ11\tLMBRD1\tOS9\tPSMA1\tPSMA2\tPSMA3\tPSMA4\tPSMA5\tPSMA6\tPSMA7\tPSMA8\tPSMB1\tPSMB10\tPSMB11\tPSMB2\tPSMB3\tPSMB4\tPSMB5\tPSMB6\tPSMB7\tPSMB8\tPSMB9\tPSMC1\tPSMC2\tPSMC3\tPSMC4\tPSMC5\tPSMC6\tPSMD1\tPSMD10\tPSMD11\tPSMD12\tPSMD13\tPSMD14\tPSMD2\tPSMD3\tPSMD4\tPSMD5\tPSMD6\tPSMD7\tPSMD8\tPSMD9\tPSME1\tPSME2\tPSME3\tPSME4\tPSMF1\tRNF185\tRNF5\tRPS27A\tSEL1L\tSEM1\tUBA52\tUBB\tUBC\tVCP\r\n",
            "ABC transporters in lipid homeostasis\tR-HSA-1369062\tABCA10\tABCA12\tABCA2\tABCA3\tABCA5\tABCA6\tABCA7\tABCA9\tABCD1\tABCD2\tABCD3\tABCG1\tABCG4\tABCG5\tABCG8\tAPOA1\tPEX19\tPEX3\r\n",
            "ABC-family proteins mediated transport\tR-HSA-382556\tABCA10\tABCA12\tABCA2\tABCA3\tABCA4\tABCA5\tABCA6\tABCA7\tABCA8\tABCA9\tABCB1\tABCB10\tABCB4\tABCB5\tABCB6\tABCB7\tABCB8\tABCB9\tABCC1\tABCC10\tABCC11\tABCC2\tABCC3\tABCC4\tABCC5\tABCC6\tABCC9\tABCD1\tABCD2\tABCD3\tABCF1\tABCG1\tABCG4\tABCG5\tABCG8\tAPOA1\tCFTR\tDERL1\tDERL2\tDERL3\tEIF2S1\tEIF2S2\tEIF2S3\tERLEC1\tERLIN1\tERLIN2\tKCNJ11\tOS9\tPEX19\tPEX3\tPSMA1\tPSMA2\tPSMA3\tPSMA4\tPSMA5\tPSMA6\tPSMA7\tPSMA8\tPSMB1\tPSMB10\tPSMB11\tPSMB2\tPSMB3\tPSMB4\tPSMB5\tPSMB6\tPSMB7\tPSMB8\tPSMB9\tPSMC1\tPSMC2\tPSMC3\tPSMC4\tPSMC5\tPSMC6\tPSMD1\tPSMD10\tPSMD11\tPSMD12\tPSMD13\tPSMD14\tPSMD2\tPSMD3\tPSMD4\tPSMD5\tPSMD6\tPSMD7\tPSMD8\tPSMD9\tPSME1\tPSME2\tPSME3\tPSME4\tPSMF1\tRNF185\tRNF5\tRPS27A\tSEL1L\tSEM1\tUBA52\tUBB\tUBC\tVCP\r\n",
            "ABO blood group biosynthesis\tR-HSA-9033807\tABO\tFUT1\tFUT2\r\n",
            "ADORA2B mediated anti-inflammatory cytokines production\tR-HSA-9660821\tADCY1\tADCY2\tADCY3\tADCY4\tADCY5\tADCY6\tADCY7\tADCY8\tADCY9\tADCYAP1\tADCYAP1R1\tADM\tADM2\tADORA2A\tADORA2B\tADRB1\tADRB2\tADRB3\tAVP\tAVPR2\tCALCA\tCALCB\tCALCR\tCALCRL\tCGA\tCREB1\tCRH\tCRHR1\tCRHR2\tCYSLTR2\tDRD1\tDRD5\tFSHB\tFSHR\tGCG\tGHRH\tGHRHR\tGIP\tGIPR\tGLP1R\tGLP2R\tGNAI1\tGNAI2\tGNAI3\tGNAS\tGNAT3\tGNAZ\tGNB1\tGNB2\tGNB3\tGNB4\tGNB5\tGNG10\tGNG11\tGNG12\tGNG13\tGNG2\tGNG3\tGNG4\tGNG5\tGNG7\tGNG8\tGNGT1\tGNGT2\tGPBAR1\tGPHA2\tGPHB5\tGPR15\tGPR150\tGPR176\tGPR20\tGPR25\tGPR27\tGPR32\tGPR39\tGPR45\tGPR83\tGPR84\tHRH2\tHTR4\tHTR6\tHTR7\tIAPP\tIL6\tINSL3\tLHB\tLHCGR\tMC1R\tMC2R\tMC3R\tMC4R\tMC5R\tNPS\tNPSR1\tP2RY11\tPOMC\tPRKACA\tPRKACB\tPRKACG\tPRKAR1A\tPRKAR1B\tPRKAR2A\tPRKAR2B\tPRKX\tPTGDR\tPTGER2\tPTGER4\tPTGIR\tPTH\tPTH1R\tPTH2\tPTH2R\tPTHLH\tRAMP1\tRAMP2\tRAMP3\tRLN2\tRLN3\tRXFP1\tRXFP2\tSCT\tSCTR\tTAAR1\tTAAR2\tTAAR3\tTAAR5\tTAAR6\tTAAR8\tTAAR9\tTSHB\tTSHR\tVIP\tVIPR1\tVIPR2\r\n",
            "ADP signalling through P2Y purinoceptor 1\tR-HSA-418592\tGNA11\tGNA14\tGNA15\tGNAQ\tGNB1\tGNB2\tGNB3\tGNB4\tGNB5\tGNG10\tGNG11\tGNG12\tGNG13\tGNG2\tGNG3\tGNG4\tGNG5\tGNG7\tGNG8\tGNGT1\tGNGT2\tMAPK14\tP2RY1\tPLA2G4A\tSRC\r\n",
            "ADP signalling through P2Y purinoceptor 12\tR-HSA-392170\tGNAI1\tGNAI2\tGNAI3\tGNAT3\tGNB1\tGNB2\tGNB3\tGNB4\tGNB5\tGNG10\tGNG11\tGNG12\tGNG13\tGNG2\tGNG3\tGNG4\tGNG5\tGNG7\tGNG8\tGNGT1\tGNGT2\tP2RY12\r\n"
          ]
        }
      ]
    },
    {
      "cell_type": "code",
      "source": [
        "import pandas as pd\n",
        "\n",
        "\n",
        "def read_reactome_gmt(file_path):\n",
        "  data_dict_list = []\n",
        "  with open(file_path) as f:\n",
        "      for i, line in enumerate(f):\n",
        "          values = line.strip().split(\"\\t\")\n",
        "          st_id = values[1]\n",
        "          genes = values[3:]\n",
        "          for gene in genes:\n",
        "              data_dict_list.append({'st_id': st_id, 'gene': gene})\n",
        "  df = pd.DataFrame(data_dict_list)\n",
        "  return df\n",
        "  \n",
        "def read_reactome_pathway_hierarchy_relationship(file_path):\n",
        "  df = pd.read_csv(file_path, sep='\\t')\n",
        "  df.columns = ['parent_st_id', 'child_st_id']\n",
        "  return df\n",
        "\n",
        "def read_reactome_complete_list(file_path):\n",
        "  df = pd.read_csv(file_path, sep='\\t')\n",
        "  df.columns = ['st_id', 'pathway_name', 'species']\n",
        "  return df"
      ],
      "metadata": {
        "id": "5XmXBEa7YxhT"
      },
      "execution_count": 6,
      "outputs": []
    },
    {
      "cell_type": "code",
      "source": [
        "pathway_gene_df = read_reactome_gmt(\"ReactomePathways.gmt\")\n",
        "print(pathway_gene_df)"
      ],
      "metadata": {
        "colab": {
          "base_uri": "https://localhost:8080/"
        },
        "id": "rJIuFGqQW0Yx",
        "outputId": "df6f5e7c-129a-4a28-ed38-347ab089e974"
      },
      "execution_count": 7,
      "outputs": [
        {
          "output_type": "stream",
          "name": "stdout",
          "text": [
            "               st_id   gene\n",
            "0       R-HSA-164843  HMGA1\n",
            "1       R-HSA-164843   LIG4\n",
            "2       R-HSA-164843  PSIP1\n",
            "3       R-HSA-164843  XRCC4\n",
            "4       R-HSA-164843  XRCC5\n",
            "...              ...    ...\n",
            "121252  R-HSA-192905     NP\n",
            "121253  R-HSA-192905     NS\n",
            "121254  R-HSA-192905     PA\n",
            "121255  R-HSA-192905    PB1\n",
            "121256  R-HSA-192905    PB2\n",
            "\n",
            "[121257 rows x 2 columns]\n"
          ]
        }
      ]
    },
    {
      "cell_type": "code",
      "source": [
        "pathway_hierarchy_df = read_reactome_pathway_hierarchy_relationship(\"ReactomePathwaysRelation.txt\")\n",
        "print(pathway_hierarchy_df)"
      ],
      "metadata": {
        "colab": {
          "base_uri": "https://localhost:8080/"
        },
        "id": "x4JynPeWYQLZ",
        "outputId": "fa633289-fa4f-408d-a5b8-acfc39bf5bdb"
      },
      "execution_count": 8,
      "outputs": [
        {
          "output_type": "stream",
          "name": "stdout",
          "text": [
            "       parent_st_id    child_st_id\n",
            "0      R-BTA-109581  R-BTA-5357769\n",
            "1      R-BTA-109581    R-BTA-75153\n",
            "2      R-BTA-109582   R-BTA-140877\n",
            "3      R-BTA-109582   R-BTA-202733\n",
            "4      R-BTA-109582   R-BTA-418346\n",
            "...             ...            ...\n",
            "21521  R-XTR-983705  R-XTR-5690714\n",
            "21522  R-XTR-983705   R-XTR-983695\n",
            "21523  R-XTR-983712  R-XTR-2672351\n",
            "21524  R-XTR-983712   R-XTR-936837\n",
            "21525  R-XTR-991365   R-XTR-997272\n",
            "\n",
            "[21526 rows x 2 columns]\n"
          ]
        }
      ]
    },
    {
      "cell_type": "code",
      "source": [
        "complete_list = read_reactome_complete_list(\"ReactomePathways.txt\")\n",
        "print(complete_list)"
      ],
      "metadata": {
        "colab": {
          "base_uri": "https://localhost:8080/"
        },
        "id": "hFOgv0MBYd_d",
        "outputId": "02c74553-3160-4a2e-efb0-ce670d15e1c9"
      },
      "execution_count": 9,
      "outputs": [
        {
          "output_type": "stream",
          "name": "stdout",
          "text": [
            "               st_id                                       pathway_name  \\\n",
            "0      R-BTA-1971475  A tetrasaccharide linker sequence is required ...   \n",
            "1      R-BTA-1369062              ABC transporters in lipid homeostasis   \n",
            "2       R-BTA-382556             ABC-family proteins mediated transport   \n",
            "3      R-BTA-9033807                       ABO blood group biosynthesis   \n",
            "4       R-BTA-418592          ADP signalling through P2Y purinoceptor 1   \n",
            "...              ...                                                ...   \n",
            "21417   R-XTR-193639                           p75NTR signals via NF-kB   \n",
            "21418   R-XTR-111995                               phospho-PLA2 pathway   \n",
            "21419   R-XTR-191859                                     snRNP Assembly   \n",
            "21420   R-XTR-379724                                tRNA Aminoacylation   \n",
            "21421   R-XTR-199992                trans-Golgi Network Vesicle Budding   \n",
            "\n",
            "                  species  \n",
            "0              Bos taurus  \n",
            "1              Bos taurus  \n",
            "2              Bos taurus  \n",
            "3              Bos taurus  \n",
            "4              Bos taurus  \n",
            "...                   ...  \n",
            "21417  Xenopus tropicalis  \n",
            "21418  Xenopus tropicalis  \n",
            "21419  Xenopus tropicalis  \n",
            "21420  Xenopus tropicalis  \n",
            "21421  Xenopus tropicalis  \n",
            "\n",
            "[21422 rows x 3 columns]\n"
          ]
        }
      ]
    },
    {
      "cell_type": "code",
      "source": [
        "import networkx as nx\n",
        "\n",
        "human_pathway_ids = complete_list[complete_list[\"species\"] == 'Homo sapiens'][\"st_id\"]\n",
        "human_pathway_hierarchy_df = pathway_hierarchy_df[pathway_hierarchy_df[\"parent_st_id\"].isin(human_pathway_ids) & pathway_hierarchy_df[\"child_st_id\"].isin(human_pathway_ids)]\n",
        "human_pathway_graph = nx.from_pandas_edgelist(human_pathway_hierarchy_df, source=\"parent_st_id\", target=\"child_st_id\", create_using=nx.DiGraph())\n",
        "root_pathways = [n for n, d in human_pathway_graph.in_degree() if d==0] \n",
        "root_edges = [(\"root\", n) for n in root_pathways] \n",
        "human_pathway_graph.add_edges_from(root_edges)"
      ],
      "metadata": {
        "id": "5EbbE_wC3_eZ"
      },
      "execution_count": 20,
      "outputs": []
    },
    {
      "cell_type": "code",
      "source": [
        "selected_ids = nx.single_source_shortest_path_length(human_pathway_graph, source=\"root\", cutoff=2)\n",
        "selected_ids"
      ],
      "metadata": {
        "colab": {
          "base_uri": "https://localhost:8080/"
        },
        "id": "49qe2TXzPq30",
        "outputId": "48131df5-6e7b-44d5-bb61-1501c4aa2bfd"
      },
      "execution_count": 21,
      "outputs": [
        {
          "output_type": "execute_result",
          "data": {
            "text/plain": [
              "{'R-HSA-109581': 2,\n",
              " 'R-HSA-109582': 1,\n",
              " 'R-HSA-112307': 2,\n",
              " 'R-HSA-112315': 2,\n",
              " 'R-HSA-112316': 1,\n",
              " 'R-HSA-1181150': 2,\n",
              " 'R-HSA-1187000': 2,\n",
              " 'R-HSA-1266738': 1,\n",
              " 'R-HSA-1268020': 2,\n",
              " 'R-HSA-1280215': 2,\n",
              " 'R-HSA-1280218': 2,\n",
              " 'R-HSA-1296071': 2,\n",
              " 'R-HSA-1362409': 2,\n",
              " 'R-HSA-1368071': 2,\n",
              " 'R-HSA-1368082': 2,\n",
              " 'R-HSA-1368108': 2,\n",
              " 'R-HSA-140877': 2,\n",
              " 'R-HSA-1428517': 2,\n",
              " 'R-HSA-1430728': 1,\n",
              " 'R-HSA-1474165': 1,\n",
              " 'R-HSA-1474228': 2,\n",
              " 'R-HSA-1474244': 1,\n",
              " 'R-HSA-1474290': 2,\n",
              " 'R-HSA-1475029': 2,\n",
              " 'R-HSA-1480926': 2,\n",
              " 'R-HSA-1483249': 2,\n",
              " 'R-HSA-1500620': 2,\n",
              " 'R-HSA-1500931': 1,\n",
              " 'R-HSA-1566948': 2,\n",
              " 'R-HSA-1566977': 2,\n",
              " 'R-HSA-157118': 2,\n",
              " 'R-HSA-15869': 2,\n",
              " 'R-HSA-1592230': 2,\n",
              " 'R-HSA-162582': 1,\n",
              " 'R-HSA-1632852': 2,\n",
              " 'R-HSA-163685': 2,\n",
              " 'R-HSA-1640170': 1,\n",
              " 'R-HSA-1643685': 1,\n",
              " 'R-HSA-165159': 2,\n",
              " 'R-HSA-168249': 2,\n",
              " 'R-HSA-168256': 1,\n",
              " 'R-HSA-174824': 2,\n",
              " 'R-HSA-1852241': 1,\n",
              " 'R-HSA-186712': 2,\n",
              " 'R-HSA-189445': 2,\n",
              " 'R-HSA-194441': 2,\n",
              " 'R-HSA-195721': 2,\n",
              " 'R-HSA-196854': 2,\n",
              " 'R-HSA-199991': 2,\n",
              " 'R-HSA-202131': 2,\n",
              " 'R-HSA-202733': 2,\n",
              " 'R-HSA-2028269': 2,\n",
              " 'R-HSA-211000': 2,\n",
              " 'R-HSA-211859': 2,\n",
              " 'R-HSA-212165': 2,\n",
              " 'R-HSA-216083': 2,\n",
              " 'R-HSA-2161522': 2,\n",
              " 'R-HSA-2173782': 2,\n",
              " 'R-HSA-2187338': 2,\n",
              " 'R-HSA-2262752': 2,\n",
              " 'R-HSA-2564830': 2,\n",
              " 'R-HSA-2586552': 2,\n",
              " 'R-HSA-2980736': 2,\n",
              " 'R-HSA-3000157': 2,\n",
              " 'R-HSA-3000171': 2,\n",
              " 'R-HSA-3000178': 2,\n",
              " 'R-HSA-3247509': 2,\n",
              " 'R-HSA-354192': 2,\n",
              " 'R-HSA-372790': 2,\n",
              " 'R-HSA-373753': 2,\n",
              " 'R-HSA-381340': 2,\n",
              " 'R-HSA-381426': 2,\n",
              " 'R-HSA-381753': 2,\n",
              " 'R-HSA-382551': 1,\n",
              " 'R-HSA-382556': 2,\n",
              " 'R-HSA-390522': 2,\n",
              " 'R-HSA-391160': 2,\n",
              " 'R-HSA-391251': 2,\n",
              " 'R-HSA-392499': 1,\n",
              " 'R-HSA-397014': 1,\n",
              " 'R-HSA-400253': 1,\n",
              " 'R-HSA-418346': 2,\n",
              " 'R-HSA-425407': 2,\n",
              " 'R-HSA-428359': 2,\n",
              " 'R-HSA-429914': 2,\n",
              " 'R-HSA-445355': 2,\n",
              " 'R-HSA-445717': 2,\n",
              " 'R-HSA-446728': 2,\n",
              " 'R-HSA-450531': 2,\n",
              " 'R-HSA-452723': 2,\n",
              " 'R-HSA-4839726': 1,\n",
              " 'R-HSA-5218859': 2,\n",
              " 'R-HSA-5223345': 2,\n",
              " 'R-HSA-525793': 2,\n",
              " 'R-HSA-5260271': 2,\n",
              " 'R-HSA-5357801': 1,\n",
              " 'R-HSA-5358351': 2,\n",
              " 'R-HSA-5358508': 2,\n",
              " 'R-HSA-556833': 2,\n",
              " 'R-HSA-5576891': 2,\n",
              " 'R-HSA-5617833': 2,\n",
              " 'R-HSA-5619115': 2,\n",
              " 'R-HSA-5619507': 2,\n",
              " 'R-HSA-5653656': 1,\n",
              " 'R-HSA-5660526': 2,\n",
              " 'R-HSA-5663202': 2,\n",
              " 'R-HSA-5663205': 2,\n",
              " 'R-HSA-5668914': 2,\n",
              " 'R-HSA-5676934': 2,\n",
              " 'R-HSA-5682910': 2,\n",
              " 'R-HSA-5683057': 2,\n",
              " 'R-HSA-5683826': 2,\n",
              " 'R-HSA-5693532': 2,\n",
              " 'R-HSA-5696398': 2,\n",
              " 'R-HSA-597592': 2,\n",
              " 'R-HSA-6783310': 2,\n",
              " 'R-HSA-6794362': 2,\n",
              " 'R-HSA-6805567': 2,\n",
              " 'R-HSA-69002': 2,\n",
              " 'R-HSA-69239': 2,\n",
              " 'R-HSA-69278': 2,\n",
              " 'R-HSA-69306': 1,\n",
              " 'R-HSA-69620': 2,\n",
              " 'R-HSA-71291': 2,\n",
              " 'R-HSA-71387': 2,\n",
              " 'R-HSA-71737': 2,\n",
              " 'R-HSA-72086': 2,\n",
              " 'R-HSA-72203': 2,\n",
              " 'R-HSA-72306': 2,\n",
              " 'R-HSA-72312': 2,\n",
              " 'R-HSA-72766': 2,\n",
              " 'R-HSA-73857': 2,\n",
              " 'R-HSA-73864': 2,\n",
              " 'R-HSA-73884': 2,\n",
              " 'R-HSA-73886': 2,\n",
              " 'R-HSA-73887': 2,\n",
              " 'R-HSA-73893': 2,\n",
              " 'R-HSA-73894': 1,\n",
              " 'R-HSA-73942': 2,\n",
              " 'R-HSA-74158': 2,\n",
              " 'R-HSA-74160': 1,\n",
              " 'R-HSA-75067': 2,\n",
              " 'R-HSA-75072': 2,\n",
              " 'R-HSA-75205': 2,\n",
              " 'R-HSA-75892': 2,\n",
              " 'R-HSA-75944': 2,\n",
              " 'R-HSA-76002': 2,\n",
              " 'R-HSA-8935690': 2,\n",
              " 'R-HSA-8941237': 2,\n",
              " 'R-HSA-8949215': 2,\n",
              " 'R-HSA-8953854': 1,\n",
              " 'R-HSA-8953897': 1,\n",
              " 'R-HSA-8963676': 2,\n",
              " 'R-HSA-8963743': 1,\n",
              " 'R-HSA-8981607': 2,\n",
              " 'R-HSA-9006335': 2,\n",
              " 'R-HSA-9006925': 2,\n",
              " 'R-HSA-9006927': 2,\n",
              " 'R-HSA-9006931': 2,\n",
              " 'R-HSA-9006934': 2,\n",
              " 'R-HSA-9006936': 2,\n",
              " 'R-HSA-9033241': 2,\n",
              " 'R-HSA-917937': 2,\n",
              " 'R-HSA-927802': 2,\n",
              " 'R-HSA-9603798': 2,\n",
              " 'R-HSA-9609507': 1,\n",
              " 'R-HSA-9609523': 2,\n",
              " 'R-HSA-9612973': 1,\n",
              " 'R-HSA-9613829': 2,\n",
              " 'R-HSA-9615710': 2,\n",
              " 'R-HSA-9616222': 2,\n",
              " 'R-HSA-9645723': 2,\n",
              " 'R-HSA-9659379': 2,\n",
              " 'R-HSA-9671793': 2,\n",
              " 'R-HSA-9675108': 2,\n",
              " 'R-HSA-9675126': 2,\n",
              " 'R-HSA-9675132': 2,\n",
              " 'R-HSA-9675135': 2,\n",
              " 'R-HSA-9675143': 2,\n",
              " 'R-HSA-9675151': 2,\n",
              " 'R-HSA-9690406': 2,\n",
              " 'R-HSA-9709957': 1,\n",
              " 'R-HSA-9716542': 2,\n",
              " 'R-HSA-9717189': 2,\n",
              " 'R-HSA-9748784': 1,\n",
              " 'R-HSA-9748787': 2,\n",
              " 'R-HSA-9749641': 2,\n",
              " 'R-HSA-9753281': 2,\n",
              " 'R-HSA-9754706': 2,\n",
              " 'R-HSA-977225': 2,\n",
              " 'R-HSA-983231': 2,\n",
              " 'R-HSA-983712': 2,\n",
              " 'root': 0}"
            ]
          },
          "metadata": {},
          "execution_count": 21
        }
      ]
    },
    {
      "cell_type": "code",
      "source": [
        "for pathway_id, shortest_path_length in selected_ids.items():\n",
        "  if shortest_path_length > 0:\n",
        "    children = list(human_pathway_graph.successors(pathway_id))\n",
        "    print(\"length\", shortest_path_length, \"parent\", pathway_id, \"children\", children)"
      ],
      "metadata": {
        "colab": {
          "base_uri": "https://localhost:8080/"
        },
        "id": "uwPzdPJmGp43",
        "outputId": "e76b46a6-2084-4633-beaa-2433ed67fd0c"
      },
      "execution_count": 11,
      "outputs": [
        {
          "output_type": "stream",
          "name": "stdout",
          "text": [
            "length 1 parent R-HSA-1852241 children ['R-HSA-1592230', 'R-HSA-5617833']\n",
            "length 1 parent R-HSA-5357801 children ['R-HSA-109581', 'R-HSA-5218859']\n",
            "length 1 parent R-HSA-1266738 children ['R-HSA-1181150', 'R-HSA-186712', 'R-HSA-381340', 'R-HSA-452723', 'R-HSA-525793', 'R-HSA-5619507', 'R-HSA-5682910', 'R-HSA-6805567', 'R-HSA-9616222', 'R-HSA-9675108', 'R-HSA-9690406']\n",
            "length 1 parent R-HSA-4839726 children ['R-HSA-3247509']\n",
            "length 1 parent R-HSA-9709957 children ['R-HSA-2187338', 'R-HSA-381753', 'R-HSA-9659379', 'R-HSA-9717189']\n",
            "length 1 parent R-HSA-1474244 children ['R-HSA-1474228', 'R-HSA-1474290', 'R-HSA-1566948', 'R-HSA-1566977', 'R-HSA-216083', 'R-HSA-3000157', 'R-HSA-3000171', 'R-HSA-3000178', 'R-HSA-8941237']\n",
            "length 1 parent R-HSA-9612973 children ['R-HSA-1632852', 'R-HSA-9613829', 'R-HSA-9615710']\n",
            "length 1 parent R-HSA-397014 children ['R-HSA-390522', 'R-HSA-445355', 'R-HSA-5576891']\n",
            "length 1 parent R-HSA-1430728 children ['R-HSA-1362409', 'R-HSA-1428517', 'R-HSA-1475029', 'R-HSA-1483249', 'R-HSA-15869', 'R-HSA-163685', 'R-HSA-189445', 'R-HSA-196854', 'R-HSA-202131', 'R-HSA-211859', 'R-HSA-2564830', 'R-HSA-556833', 'R-HSA-71291', 'R-HSA-71387', 'R-HSA-71737']\n",
            "length 1 parent R-HSA-1500931 children ['R-HSA-373753', 'R-HSA-391160', 'R-HSA-446728']\n",
            "length 1 parent R-HSA-74160 children ['R-HSA-211000', 'R-HSA-212165', 'R-HSA-73857', 'R-HSA-73864', 'R-HSA-74158', 'R-HSA-75944']\n",
            "length 1 parent R-HSA-73894 children ['R-HSA-5358508', 'R-HSA-5693532', 'R-HSA-5696398', 'R-HSA-6783310', 'R-HSA-73884', 'R-HSA-73893', 'R-HSA-73942']\n",
            "length 1 parent R-HSA-400253 children ['R-HSA-1368071', 'R-HSA-1368082', 'R-HSA-1368108']\n",
            "length 1 parent R-HSA-1640170 children ['R-HSA-1500620', 'R-HSA-69278', 'R-HSA-69620', 'R-HSA-73886']\n",
            "length 1 parent R-HSA-8953897 children ['R-HSA-2262752', 'R-HSA-5660526']\n",
            "length 1 parent R-HSA-9748784 children ['R-HSA-2161522', 'R-HSA-9748787', 'R-HSA-9749641', 'R-HSA-9753281', 'R-HSA-9754706']\n",
            "length 1 parent R-HSA-109582 children ['R-HSA-140877', 'R-HSA-202733', 'R-HSA-418346', 'R-HSA-75205', 'R-HSA-75892', 'R-HSA-76002', 'R-HSA-983231']\n",
            "length 1 parent R-HSA-112316 children ['R-HSA-112307', 'R-HSA-112315', 'R-HSA-1296071', 'R-HSA-6794362']\n",
            "length 1 parent R-HSA-162582 children ['R-HSA-157118', 'R-HSA-165159', 'R-HSA-195721', 'R-HSA-2028269', 'R-HSA-2586552', 'R-HSA-354192', 'R-HSA-372790', 'R-HSA-5358351', 'R-HSA-5683057', 'R-HSA-73887', 'R-HSA-9006335', 'R-HSA-9006925', 'R-HSA-9006927', 'R-HSA-9006931', 'R-HSA-9006934', 'R-HSA-9006936', 'R-HSA-9716542']\n",
            "length 1 parent R-HSA-168256 children ['R-HSA-1280215', 'R-HSA-1280218', 'R-HSA-168249']\n",
            "length 1 parent R-HSA-8963743 children ['R-HSA-8935690', 'R-HSA-8963676']\n",
            "length 1 parent R-HSA-382551 children ['R-HSA-1480926', 'R-HSA-174824', 'R-HSA-382556', 'R-HSA-425407', 'R-HSA-445717', 'R-HSA-5223345', 'R-HSA-8949215', 'R-HSA-8981607', 'R-HSA-917937', 'R-HSA-983712']\n",
            "length 1 parent R-HSA-1643685 children ['R-HSA-5260271', 'R-HSA-5619115', 'R-HSA-5663202', 'R-HSA-5663205', 'R-HSA-5668914', 'R-HSA-9645723', 'R-HSA-9671793', 'R-HSA-9675126', 'R-HSA-9675132', 'R-HSA-9675135', 'R-HSA-9675143', 'R-HSA-9675151']\n",
            "length 1 parent R-HSA-1474165 children ['R-HSA-1187000', 'R-HSA-1500620']\n",
            "length 1 parent R-HSA-9609507 children ['R-HSA-1268020', 'R-HSA-9033241', 'R-HSA-9603798', 'R-HSA-9609523']\n",
            "length 1 parent R-HSA-5653656 children ['R-HSA-199991', 'R-HSA-2173782']\n",
            "length 1 parent R-HSA-8953854 children ['R-HSA-194441', 'R-HSA-428359', 'R-HSA-429914', 'R-HSA-450531', 'R-HSA-72086', 'R-HSA-72203', 'R-HSA-72306', 'R-HSA-72312', 'R-HSA-75067', 'R-HSA-75072', 'R-HSA-927802']\n",
            "length 1 parent R-HSA-69306 children ['R-HSA-69002', 'R-HSA-69239']\n",
            "length 1 parent R-HSA-392499 children ['R-HSA-2980736', 'R-HSA-381426', 'R-HSA-391251', 'R-HSA-5676934', 'R-HSA-5683826', 'R-HSA-597592', 'R-HSA-72766', 'R-HSA-977225']\n",
            "length 2 parent R-HSA-75944 children ['R-HSA-163282', 'R-HSA-163316']\n",
            "length 2 parent R-HSA-9006925 children ['R-HSA-1257604', 'R-HSA-1489509']\n",
            "length 2 parent R-HSA-9675108 children ['R-HSA-422475', 'R-HSA-9619665']\n",
            "length 2 parent R-HSA-9675135 children ['R-HSA-5423599', 'R-HSA-9605308', 'R-HSA-9675136']\n",
            "length 2 parent R-HSA-1368108 children []\n",
            "length 2 parent R-HSA-9675143 children ['R-HSA-2474795']\n",
            "length 2 parent R-HSA-72086 children []\n",
            "length 2 parent R-HSA-977225 children []\n",
            "length 2 parent R-HSA-9659379 children ['R-HSA-9662360', 'R-HSA-9662361']\n",
            "length 2 parent R-HSA-6805567 children ['R-HSA-6809371']\n",
            "length 2 parent R-HSA-5663205 children ['R-HSA-162906', 'R-HSA-168255', 'R-HSA-5339562', 'R-HSA-8876384', 'R-HSA-9609646', 'R-HSA-9635486', 'R-HSA-9658195', 'R-HSA-9679506']\n",
            "length 2 parent R-HSA-211859 children ['R-HSA-156580', 'R-HSA-211945', 'R-HSA-5423646']\n",
            "length 2 parent R-HSA-9006931 children ['R-HSA-5362517', 'R-HSA-8939211', 'R-HSA-9024446']\n",
            "length 2 parent R-HSA-2187338 children ['R-HSA-2187335', 'R-HSA-2453902', 'R-HSA-2514856', 'R-HSA-975634']\n",
            "length 2 parent R-HSA-372790 children ['R-HSA-388396', 'R-HSA-500792']\n",
            "length 2 parent R-HSA-3000178 children []\n",
            "length 2 parent R-HSA-9716542 children ['R-HSA-194315', 'R-HSA-9706019', 'R-HSA-9715370']\n",
            "length 2 parent R-HSA-5668914 children ['R-HSA-2160456', 'R-HSA-2978092', 'R-HSA-3296482', 'R-HSA-3781865', 'R-HSA-5579029', 'R-HSA-5579031', 'R-HSA-5663084', 'R-HSA-5687613', 'R-HSA-9735804', 'R-HSA-9759774']\n",
            "length 2 parent R-HSA-9645723 children ['R-HSA-9693928', 'R-HSA-9710421', 'R-HSA-9734009']\n",
            "length 2 parent R-HSA-3000171 children ['R-HSA-3000170']\n",
            "length 2 parent R-HSA-425407 children ['R-HSA-189200', 'R-HSA-425366', 'R-HSA-425393', 'R-HSA-425397']\n",
            "length 2 parent R-HSA-927802 children ['R-HSA-975956', 'R-HSA-975957']\n",
            "length 2 parent R-HSA-212165 children ['R-HSA-212300', 'R-HSA-5221030', 'R-HSA-5250913', 'R-HSA-5250941', 'R-HSA-5334118']\n",
            "length 2 parent R-HSA-9754706 children []\n",
            "length 2 parent R-HSA-202131 children ['R-HSA-203615', 'R-HSA-203641', 'R-HSA-203754']\n",
            "length 2 parent R-HSA-74158 children ['R-HSA-73780', 'R-HSA-73980', 'R-HSA-749476', 'R-HSA-76046']\n",
            "length 2 parent R-HSA-168249 children ['R-HSA-1222556', 'R-HSA-166658', 'R-HSA-168643', 'R-HSA-168898', 'R-HSA-168928', 'R-HSA-1834949', 'R-HSA-2029480', 'R-HSA-2172127', 'R-HSA-2454202', 'R-HSA-5621481', 'R-HSA-6798695', 'R-HSA-6803157', 'R-HSA-879415', 'R-HSA-9645460']\n",
            "length 2 parent R-HSA-5218859 children ['R-HSA-5213460', 'R-HSA-5620971']\n",
            "length 2 parent R-HSA-73884 children ['R-HSA-73929', 'R-HSA-73933']\n",
            "length 2 parent R-HSA-452723 children ['R-HSA-2892245', 'R-HSA-2892247']\n",
            "length 2 parent R-HSA-5358508 children ['R-HSA-5358565', 'R-HSA-5358606']\n",
            "length 2 parent R-HSA-3000157 children []\n",
            "length 2 parent R-HSA-391251 children ['R-HSA-389977', 'R-HSA-390466']\n",
            "length 2 parent R-HSA-5223345 children []\n",
            "length 2 parent R-HSA-1480926 children ['R-HSA-1237044', 'R-HSA-1247673']\n",
            "length 2 parent R-HSA-1632852 children ['R-HSA-9663891']\n",
            "length 2 parent R-HSA-109581 children ['R-HSA-109606', 'R-HSA-169911', 'R-HSA-5357769', 'R-HSA-75153']\n",
            "length 2 parent R-HSA-1500620 children ['R-HSA-1221632', 'R-HSA-912446']\n",
            "length 2 parent R-HSA-76002 children ['R-HSA-114508', 'R-HSA-114604', 'R-HSA-392518', 'R-HSA-430116', 'R-HSA-456926', 'R-HSA-76005', 'R-HSA-76009']\n",
            "length 2 parent R-HSA-72306 children ['R-HSA-6782315', 'R-HSA-6784531', 'R-HSA-6785470', 'R-HSA-6787450']\n",
            "length 2 parent R-HSA-194441 children ['R-HSA-191859']\n",
            "length 2 parent R-HSA-73886 children ['R-HSA-157579', 'R-HSA-774815']\n",
            "length 2 parent R-HSA-9748787 children []\n",
            "length 2 parent R-HSA-73887 children ['R-HSA-193704', 'R-HSA-75157', 'R-HSA-75158', 'R-HSA-75893']\n",
            "length 2 parent R-HSA-1187000 children ['R-HSA-1300642', 'R-HSA-1300645', 'R-HSA-2534343']\n",
            "length 2 parent R-HSA-1181150 children ['R-HSA-1433617']\n",
            "length 2 parent R-HSA-186712 children ['R-HSA-210744', 'R-HSA-210745', 'R-HSA-210746', 'R-HSA-210747']\n",
            "length 2 parent R-HSA-69239 children ['R-HSA-68952', 'R-HSA-69052', 'R-HSA-69190']\n",
            "length 2 parent R-HSA-163685 children ['R-HSA-163358', 'R-HSA-163359', 'R-HSA-163680', 'R-HSA-163754', 'R-HSA-163765', 'R-HSA-163767', 'R-HSA-422356']\n",
            "length 2 parent R-HSA-9753281 children []\n",
            "length 2 parent R-HSA-75072 children ['R-HSA-72200', 'R-HSA-75064']\n",
            "length 2 parent R-HSA-2586552 children []\n",
            "length 2 parent R-HSA-1368071 children []\n",
            "length 2 parent R-HSA-5683826 children []\n",
            "length 2 parent R-HSA-189445 children ['R-HSA-189451', 'R-HSA-189483']\n",
            "length 2 parent R-HSA-2028269 children []\n",
            "length 2 parent R-HSA-525793 children []\n",
            "length 2 parent R-HSA-1592230 children ['R-HSA-2151201', 'R-HSA-2151209', 'R-HSA-8949613']\n",
            "length 2 parent R-HSA-1475029 children []\n",
            "length 2 parent R-HSA-5619507 children ['R-HSA-5617472']\n",
            "length 2 parent R-HSA-2161522 children ['R-HSA-2161517', 'R-HSA-2161541']\n",
            "length 2 parent R-HSA-199991 children ['R-HSA-1445148', 'R-HSA-157858', 'R-HSA-199977', 'R-HSA-199992', 'R-HSA-6811442', 'R-HSA-8856828', 'R-HSA-9007101', 'R-HSA-917729']\n",
            "length 2 parent R-HSA-9690406 children []\n",
            "length 2 parent R-HSA-2980736 children ['R-HSA-2022377', 'R-HSA-209952', 'R-HSA-264876', 'R-HSA-400508', 'R-HSA-422085']\n",
            "length 2 parent R-HSA-157118 children ['R-HSA-1912422', 'R-HSA-1980143', 'R-HSA-1980145', 'R-HSA-9012852', 'R-HSA-9013694']\n",
            "length 2 parent R-HSA-5660526 children ['R-HSA-5660489', 'R-HSA-5661231']\n",
            "length 2 parent R-HSA-9613829 children []\n",
            "length 2 parent R-HSA-1280215 children ['R-HSA-1170546', 'R-HSA-449147', 'R-HSA-5668541', 'R-HSA-913531', 'R-HSA-9607240', 'R-HSA-9674555', 'R-HSA-982772']\n",
            "length 2 parent R-HSA-445355 children []\n",
            "length 2 parent R-HSA-9675151 children ['R-HSA-9697154']\n",
            "length 2 parent R-HSA-381753 children ['R-HSA-9752946']\n",
            "length 2 parent R-HSA-5682910 children []\n",
            "length 2 parent R-HSA-1280218 children ['R-HSA-198933', 'R-HSA-202403', 'R-HSA-2132295', 'R-HSA-388841', 'R-HSA-392517', 'R-HSA-8851680', 'R-HSA-983169', 'R-HSA-983705']\n",
            "length 2 parent R-HSA-5260271 children ['R-HSA-5602358']\n",
            "length 2 parent R-HSA-5576891 children ['R-HSA-5576886', 'R-HSA-5576890', 'R-HSA-5576892', 'R-HSA-5576893', 'R-HSA-5576894', 'R-HSA-5578768', 'R-HSA-5578775']\n",
            "length 2 parent R-HSA-72312 children ['R-HSA-8868766', 'R-HSA-8868773']\n",
            "length 2 parent R-HSA-2564830 children []\n",
            "length 2 parent R-HSA-1428517 children ['R-HSA-163200', 'R-HSA-71406']\n",
            "length 2 parent R-HSA-216083 children []\n",
            "length 2 parent R-HSA-9749641 children []\n",
            "length 2 parent R-HSA-5683057 children ['R-HSA-5684996', 'R-HSA-5687128']\n",
            "length 2 parent R-HSA-211000 children ['R-HSA-203927', 'R-HSA-426486', 'R-HSA-426496', 'R-HSA-5578749', 'R-HSA-5601884', 'R-HSA-9708296']\n",
            "length 2 parent R-HSA-2262752 children ['R-HSA-1234174', 'R-HSA-2559583', 'R-HSA-3371497', 'R-HSA-3371556', 'R-HSA-381119', 'R-HSA-9648895', 'R-HSA-9707616', 'R-HSA-9711097', 'R-HSA-9711123']\n",
            "length 2 parent R-HSA-354192 children ['R-HSA-354194', 'R-HSA-372708']\n",
            "length 2 parent R-HSA-983712 children ['R-HSA-2672351', 'R-HSA-936837']\n",
            "length 2 parent R-HSA-429914 children ['R-HSA-429947', 'R-HSA-429958', 'R-HSA-430039']\n",
            "length 2 parent R-HSA-1483249 children ['R-HSA-1855156', 'R-HSA-1855167', 'R-HSA-1855170', 'R-HSA-1855183', 'R-HSA-1855184', 'R-HSA-1855191', 'R-HSA-1855192', 'R-HSA-1855196', 'R-HSA-1855204', 'R-HSA-1855215', 'R-HSA-1855229', 'R-HSA-1855231']\n",
            "length 2 parent R-HSA-9609523 children []\n",
            "length 2 parent R-HSA-71737 children []\n",
            "length 2 parent R-HSA-597592 children ['R-HSA-163125', 'R-HSA-163841', 'R-HSA-2990846', 'R-HSA-446203', 'R-HSA-5173105', 'R-HSA-5688426', 'R-HSA-8852135', 'R-HSA-8873719', 'R-HSA-8876725', 'R-HSA-8951664', 'R-HSA-8955332', 'R-HSA-8957275']\n",
            "length 2 parent R-HSA-5676934 children []\n",
            "length 2 parent R-HSA-9006934 children ['R-HSA-1227986', 'R-HSA-1236394', 'R-HSA-1433557', 'R-HSA-166520', 'R-HSA-177929', 'R-HSA-186797', 'R-HSA-190236', 'R-HSA-194138', 'R-HSA-201556', 'R-HSA-2404192', 'R-HSA-6806834', 'R-HSA-74752', 'R-HSA-8852405']\n",
            "length 2 parent R-HSA-1474228 children ['R-HSA-1442490', 'R-HSA-1592389']\n",
            "length 2 parent R-HSA-15869 children ['R-HSA-499943', 'R-HSA-8956319', 'R-HSA-8956320', 'R-HSA-8956321']\n",
            "length 2 parent R-HSA-6794362 children ['R-HSA-388844', 'R-HSA-6794361', 'R-HSA-8849932']\n",
            "length 2 parent R-HSA-9616222 children []\n",
            "length 2 parent R-HSA-9675126 children ['R-HSA-9673013', 'R-HSA-9687139']\n",
            "length 2 parent R-HSA-983231 children ['R-HSA-983189']\n",
            "length 2 parent R-HSA-5663202 children ['R-HSA-1226099', 'R-HSA-1227990', 'R-HSA-1643713', 'R-HSA-2219528', 'R-HSA-2644603', 'R-HSA-3304351', 'R-HSA-4791275', 'R-HSA-5387390', 'R-HSA-6802957', 'R-HSA-9669938', 'R-HSA-9671555', 'R-HSA-9682385', 'R-HSA-9700206']\n",
            "length 2 parent R-HSA-72766 children ['R-HSA-156842', 'R-HSA-1799339', 'R-HSA-379724', 'R-HSA-5368287', 'R-HSA-72613', 'R-HSA-72764']\n",
            "length 2 parent R-HSA-112315 children ['R-HSA-112308', 'R-HSA-112310', 'R-HSA-112311', 'R-HSA-112313', 'R-HSA-112314']\n",
            "length 2 parent R-HSA-9006936 children ['R-HSA-1502540', 'R-HSA-170834', 'R-HSA-201451']\n",
            "length 2 parent R-HSA-174824 children ['R-HSA-8963898', 'R-HSA-8963899', 'R-HSA-8964043']\n",
            "length 2 parent R-HSA-75892 children []\n",
            "length 2 parent R-HSA-140877 children ['R-HSA-140834', 'R-HSA-140837', 'R-HSA-140875']\n",
            "length 2 parent R-HSA-418346 children ['R-HSA-392154', 'R-HSA-392851', 'R-HSA-418360', 'R-HSA-432142']\n",
            "length 2 parent R-HSA-8949215 children ['R-HSA-8949664']\n",
            "length 2 parent R-HSA-9006927 children ['R-HSA-8848021']\n",
            "length 2 parent R-HSA-5617833 children ['R-HSA-5620912', 'R-HSA-5620920', 'R-HSA-5620924']\n",
            "length 2 parent R-HSA-5693532 children ['R-HSA-5693538', 'R-HSA-5693571', 'R-HSA-5693606']\n",
            "length 2 parent R-HSA-1474290 children ['R-HSA-1650814', 'R-HSA-2022090']\n",
            "length 2 parent R-HSA-3247509 children ['R-HSA-3214815', 'R-HSA-3214841', 'R-HSA-3214842', 'R-HSA-3214847', 'R-HSA-3214858']\n",
            "length 2 parent R-HSA-381340 children []\n",
            "length 2 parent R-HSA-195721 children ['R-HSA-195253', 'R-HSA-201681', 'R-HSA-3238698', 'R-HSA-3858494']\n",
            "length 2 parent R-HSA-196854 children ['R-HSA-196849', 'R-HSA-6806667', 'R-HSA-8978934']\n",
            "length 2 parent R-HSA-450531 children ['R-HSA-450385', 'R-HSA-450408', 'R-HSA-450513', 'R-HSA-450520', 'R-HSA-450604']\n",
            "length 2 parent R-HSA-5358351 children ['R-HSA-5358346', 'R-HSA-5610787', 'R-HSA-5632684']\n",
            "length 2 parent R-HSA-73893 children ['R-HSA-110313', 'R-HSA-110314']\n",
            "length 2 parent R-HSA-8935690 children ['R-HSA-189085', 'R-HSA-192456']\n",
            "length 2 parent R-HSA-445717 children ['R-HSA-432030', 'R-HSA-432040', 'R-HSA-432047']\n",
            "length 2 parent R-HSA-72203 children ['R-HSA-72172', 'R-HSA-72187', 'R-HSA-72202']\n",
            "length 2 parent R-HSA-8963676 children ['R-HSA-8963678', 'R-HSA-8981373']\n",
            "length 2 parent R-HSA-73864 children ['R-HSA-73854', 'R-HSA-73863']\n",
            "length 2 parent R-HSA-69620 children ['R-HSA-69481', 'R-HSA-69615', 'R-HSA-69618']\n",
            "length 2 parent R-HSA-1362409 children ['R-HSA-2395516']\n",
            "length 2 parent R-HSA-446728 children ['R-HSA-421270', 'R-HSA-446107', 'R-HSA-446353']\n",
            "length 2 parent R-HSA-165159 children ['R-HSA-165181', 'R-HSA-166208', 'R-HSA-380972']\n",
            "length 2 parent R-HSA-382556 children ['R-HSA-1369007', 'R-HSA-1369062']\n",
            "length 2 parent R-HSA-9675132 children ['R-HSA-9630747']\n",
            "length 2 parent R-HSA-6783310 children ['R-HSA-9750126']\n",
            "length 2 parent R-HSA-5696398 children ['R-HSA-5696399', 'R-HSA-6781827']\n",
            "length 2 parent R-HSA-381426 children []\n",
            "length 2 parent R-HSA-9717189 children ['R-HSA-9717207', 'R-HSA-9729555', 'R-HSA-9730628']\n",
            "length 2 parent R-HSA-75067 children ['R-HSA-111367', 'R-HSA-77588', 'R-HSA-77595']\n",
            "length 2 parent R-HSA-69002 children ['R-HSA-68867', 'R-HSA-68962']\n",
            "length 2 parent R-HSA-73942 children ['R-HSA-5657655', 'R-HSA-73943', 'R-HSA-9729902']\n",
            "length 2 parent R-HSA-73857 children ['R-HSA-212436', 'R-HSA-674695', 'R-HSA-6807505', 'R-HSA-73779', 'R-HSA-73856', 'R-HSA-75955', 'R-HSA-76042', 'R-HSA-77075']\n",
            "length 2 parent R-HSA-556833 children ['R-HSA-1483257', 'R-HSA-400206', 'R-HSA-428157', 'R-HSA-74182', 'R-HSA-8848584', 'R-HSA-8957322', 'R-HSA-8964572', 'R-HSA-8978868', 'R-HSA-8979227', 'R-HSA-9018678']\n",
            "length 2 parent R-HSA-391160 children []\n",
            "length 2 parent R-HSA-390522 children []\n",
            "length 2 parent R-HSA-75205 children []\n",
            "length 2 parent R-HSA-2173782 children ['R-HSA-2168880', 'R-HSA-3000471', 'R-HSA-3000480', 'R-HSA-3000484', 'R-HSA-3000497']\n",
            "length 2 parent R-HSA-1566948 children ['R-HSA-2129379']\n",
            "length 2 parent R-HSA-428359 children []\n",
            "length 2 parent R-HSA-71387 children ['R-HSA-1630316', 'R-HSA-5652084', 'R-HSA-5653890', 'R-HSA-5661270', 'R-HSA-70326', 'R-HSA-70370', 'R-HSA-71336', 'R-HSA-8853383', 'R-HSA-8982491', 'R-HSA-9033658']\n",
            "length 2 parent R-HSA-71291 children ['R-HSA-1614635', 'R-HSA-209776', 'R-HSA-2408522', 'R-HSA-351202', 'R-HSA-389661', 'R-HSA-5662702', 'R-HSA-6798163', 'R-HSA-70635', 'R-HSA-70688', 'R-HSA-70895', 'R-HSA-70921', 'R-HSA-71064', 'R-HSA-71240', 'R-HSA-71262', 'R-HSA-71288', 'R-HSA-8849175', 'R-HSA-8963691', 'R-HSA-8963693', 'R-HSA-8964539', 'R-HSA-8964540', 'R-HSA-977347']\n",
            "length 2 parent R-HSA-1268020 children []\n",
            "length 2 parent R-HSA-373753 children []\n",
            "length 2 parent R-HSA-5619115 children ['R-HSA-5619084', 'R-HSA-5619102']\n",
            "length 2 parent R-HSA-9671793 children ['R-HSA-9651496']\n",
            "length 2 parent R-HSA-9603798 children []\n",
            "length 2 parent R-HSA-69278 children ['R-HSA-453274', 'R-HSA-453276', 'R-HSA-453279', 'R-HSA-68886', 'R-HSA-69242']\n",
            "length 2 parent R-HSA-1368082 children []\n",
            "length 2 parent R-HSA-1566977 children []\n",
            "length 2 parent R-HSA-9615710 children []\n",
            "length 2 parent R-HSA-9033241 children ['R-HSA-9033500']\n",
            "length 2 parent R-HSA-8941237 children []\n",
            "length 2 parent R-HSA-112307 children ['R-HSA-112303']\n",
            "length 2 parent R-HSA-917937 children ['R-HSA-917977']\n",
            "length 2 parent R-HSA-202733 children ['R-HSA-210990', 'R-HSA-210991', 'R-HSA-210993']\n",
            "length 2 parent R-HSA-9006335 children ['R-HSA-9027276', 'R-HSA-9027277', 'R-HSA-9027283', 'R-HSA-9027284']\n",
            "length 2 parent R-HSA-1296071 children ['R-HSA-1296052', 'R-HSA-1296061', 'R-HSA-1296065', 'R-HSA-1296072', 'R-HSA-1296346']\n",
            "length 2 parent R-HSA-8981607 children []\n"
          ]
        }
      ]
    },
    {
      "cell_type": "code",
      "source": [
        "print(complete_list[complete_list[\"st_id\"] == \"R-HSA-1592230\"])"
      ],
      "metadata": {
        "colab": {
          "base_uri": "https://localhost:8080/"
        },
        "id": "554WAZGkSKGm",
        "outputId": "348eabe9-da95-40b6-c9d2-33ba65914474"
      },
      "execution_count": 17,
      "outputs": [
        {
          "output_type": "stream",
          "name": "stdout",
          "text": [
            "               st_id              pathway_name       species\n",
            "11395  R-HSA-1592230  Mitochondrial biogenesis  Homo sapiens\n"
          ]
        }
      ]
    },
    {
      "cell_type": "code",
      "source": [
        "print(pathway_gene_df[pathway_gene_df[\"st_id\"] == \"R-HSA-1592230\"])"
      ],
      "metadata": {
        "colab": {
          "base_uri": "https://localhost:8080/"
        },
        "id": "jY62jYEiSZTv",
        "outputId": "90ed189a-7b66-4128-c86d-c8491da6d106"
      },
      "execution_count": 18,
      "outputs": [
        {
          "output_type": "stream",
          "name": "stdout",
          "text": [
            "               st_id    gene\n",
            "65977  R-HSA-1592230   ALAS1\n",
            "65978  R-HSA-1592230    APOO\n",
            "65979  R-HSA-1592230   APOOL\n",
            "65980  R-HSA-1592230    ATF2\n",
            "65981  R-HSA-1592230   ATP5B\n",
            "...              ...     ...\n",
            "66066  R-HSA-1592230    TFAM\n",
            "66067  R-HSA-1592230   TFB1M\n",
            "66068  R-HSA-1592230   TFB2M\n",
            "66069  R-HSA-1592230    TGS1\n",
            "66070  R-HSA-1592230  TMEM11\n",
            "\n",
            "[94 rows x 2 columns]\n"
          ]
        }
      ]
    }
  ]
}